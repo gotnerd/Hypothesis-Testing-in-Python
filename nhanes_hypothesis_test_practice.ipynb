{
 "cells": [
  {
   "cell_type": "markdown",
   "metadata": {},
   "source": [
    "# Practice notebook for hypothesis tests using NHANES data\n",
    "\n",
    "This notebook will give you the opportunity to perform some hypothesis tests with the NHANES data that are similar to\n",
    "what was done in the week 3 case study notebook.\n",
    "\n",
    "You can enter your code into the cells that say \"enter your code here\", and you can type responses to the questions into the cells that say \"Type Markdown and Latex\".\n",
    "\n",
    "Note that most of the code that you will need to write below is very similar to code that appears in the case study notebook.  You will need to edit code from that notebook in small ways to adapt it to the prompts below.\n",
    "\n",
    "To get started, we will use the same module imports and read the data in the same way as we did in the case study:"
   ]
  },
  {
   "cell_type": "code",
   "execution_count": 2,
   "metadata": {},
   "outputs": [
    {
     "data": {
      "text/html": [
       "<div>\n",
       "<style scoped>\n",
       "    .dataframe tbody tr th:only-of-type {\n",
       "        vertical-align: middle;\n",
       "    }\n",
       "\n",
       "    .dataframe tbody tr th {\n",
       "        vertical-align: top;\n",
       "    }\n",
       "\n",
       "    .dataframe thead th {\n",
       "        text-align: right;\n",
       "    }\n",
       "</style>\n",
       "<table border=\"1\" class=\"dataframe\">\n",
       "  <thead>\n",
       "    <tr style=\"text-align: right;\">\n",
       "      <th></th>\n",
       "      <th>SEQN</th>\n",
       "      <th>ALQ101</th>\n",
       "      <th>ALQ110</th>\n",
       "      <th>ALQ130</th>\n",
       "      <th>SMQ020</th>\n",
       "      <th>RIAGENDR</th>\n",
       "      <th>RIDAGEYR</th>\n",
       "      <th>RIDRETH1</th>\n",
       "      <th>DMDCITZN</th>\n",
       "      <th>DMDEDUC2</th>\n",
       "      <th>...</th>\n",
       "      <th>BPXSY2</th>\n",
       "      <th>BPXDI2</th>\n",
       "      <th>BMXWT</th>\n",
       "      <th>BMXHT</th>\n",
       "      <th>BMXBMI</th>\n",
       "      <th>BMXLEG</th>\n",
       "      <th>BMXARML</th>\n",
       "      <th>BMXARMC</th>\n",
       "      <th>BMXWAIST</th>\n",
       "      <th>HIQ210</th>\n",
       "    </tr>\n",
       "  </thead>\n",
       "  <tbody>\n",
       "    <tr>\n",
       "      <th>0</th>\n",
       "      <td>83732</td>\n",
       "      <td>1.0</td>\n",
       "      <td>NaN</td>\n",
       "      <td>1.0</td>\n",
       "      <td>1</td>\n",
       "      <td>1</td>\n",
       "      <td>62</td>\n",
       "      <td>3</td>\n",
       "      <td>1.0</td>\n",
       "      <td>5.0</td>\n",
       "      <td>...</td>\n",
       "      <td>124.0</td>\n",
       "      <td>64.0</td>\n",
       "      <td>94.8</td>\n",
       "      <td>184.5</td>\n",
       "      <td>27.8</td>\n",
       "      <td>43.3</td>\n",
       "      <td>43.6</td>\n",
       "      <td>35.9</td>\n",
       "      <td>101.1</td>\n",
       "      <td>2.0</td>\n",
       "    </tr>\n",
       "    <tr>\n",
       "      <th>1</th>\n",
       "      <td>83733</td>\n",
       "      <td>1.0</td>\n",
       "      <td>NaN</td>\n",
       "      <td>6.0</td>\n",
       "      <td>1</td>\n",
       "      <td>1</td>\n",
       "      <td>53</td>\n",
       "      <td>3</td>\n",
       "      <td>2.0</td>\n",
       "      <td>3.0</td>\n",
       "      <td>...</td>\n",
       "      <td>140.0</td>\n",
       "      <td>88.0</td>\n",
       "      <td>90.4</td>\n",
       "      <td>171.4</td>\n",
       "      <td>30.8</td>\n",
       "      <td>38.0</td>\n",
       "      <td>40.0</td>\n",
       "      <td>33.2</td>\n",
       "      <td>107.9</td>\n",
       "      <td>NaN</td>\n",
       "    </tr>\n",
       "    <tr>\n",
       "      <th>2</th>\n",
       "      <td>83734</td>\n",
       "      <td>1.0</td>\n",
       "      <td>NaN</td>\n",
       "      <td>NaN</td>\n",
       "      <td>1</td>\n",
       "      <td>1</td>\n",
       "      <td>78</td>\n",
       "      <td>3</td>\n",
       "      <td>1.0</td>\n",
       "      <td>3.0</td>\n",
       "      <td>...</td>\n",
       "      <td>132.0</td>\n",
       "      <td>44.0</td>\n",
       "      <td>83.4</td>\n",
       "      <td>170.1</td>\n",
       "      <td>28.8</td>\n",
       "      <td>35.6</td>\n",
       "      <td>37.0</td>\n",
       "      <td>31.0</td>\n",
       "      <td>116.5</td>\n",
       "      <td>2.0</td>\n",
       "    </tr>\n",
       "    <tr>\n",
       "      <th>3</th>\n",
       "      <td>83735</td>\n",
       "      <td>2.0</td>\n",
       "      <td>1.0</td>\n",
       "      <td>1.0</td>\n",
       "      <td>2</td>\n",
       "      <td>2</td>\n",
       "      <td>56</td>\n",
       "      <td>3</td>\n",
       "      <td>1.0</td>\n",
       "      <td>5.0</td>\n",
       "      <td>...</td>\n",
       "      <td>134.0</td>\n",
       "      <td>68.0</td>\n",
       "      <td>109.8</td>\n",
       "      <td>160.9</td>\n",
       "      <td>42.4</td>\n",
       "      <td>38.5</td>\n",
       "      <td>37.7</td>\n",
       "      <td>38.3</td>\n",
       "      <td>110.1</td>\n",
       "      <td>2.0</td>\n",
       "    </tr>\n",
       "    <tr>\n",
       "      <th>4</th>\n",
       "      <td>83736</td>\n",
       "      <td>2.0</td>\n",
       "      <td>1.0</td>\n",
       "      <td>1.0</td>\n",
       "      <td>2</td>\n",
       "      <td>2</td>\n",
       "      <td>42</td>\n",
       "      <td>4</td>\n",
       "      <td>1.0</td>\n",
       "      <td>4.0</td>\n",
       "      <td>...</td>\n",
       "      <td>114.0</td>\n",
       "      <td>54.0</td>\n",
       "      <td>55.2</td>\n",
       "      <td>164.9</td>\n",
       "      <td>20.3</td>\n",
       "      <td>37.4</td>\n",
       "      <td>36.0</td>\n",
       "      <td>27.2</td>\n",
       "      <td>80.4</td>\n",
       "      <td>2.0</td>\n",
       "    </tr>\n",
       "  </tbody>\n",
       "</table>\n",
       "<p>5 rows × 28 columns</p>\n",
       "</div>"
      ],
      "text/plain": [
       "    SEQN  ALQ101  ALQ110  ALQ130  SMQ020  RIAGENDR  RIDAGEYR  RIDRETH1  \\\n",
       "0  83732     1.0     NaN     1.0       1         1        62         3   \n",
       "1  83733     1.0     NaN     6.0       1         1        53         3   \n",
       "2  83734     1.0     NaN     NaN       1         1        78         3   \n",
       "3  83735     2.0     1.0     1.0       2         2        56         3   \n",
       "4  83736     2.0     1.0     1.0       2         2        42         4   \n",
       "\n",
       "   DMDCITZN  DMDEDUC2  ...  BPXSY2  BPXDI2  BMXWT  BMXHT  BMXBMI  BMXLEG  \\\n",
       "0       1.0       5.0  ...   124.0    64.0   94.8  184.5    27.8    43.3   \n",
       "1       2.0       3.0  ...   140.0    88.0   90.4  171.4    30.8    38.0   \n",
       "2       1.0       3.0  ...   132.0    44.0   83.4  170.1    28.8    35.6   \n",
       "3       1.0       5.0  ...   134.0    68.0  109.8  160.9    42.4    38.5   \n",
       "4       1.0       4.0  ...   114.0    54.0   55.2  164.9    20.3    37.4   \n",
       "\n",
       "   BMXARML  BMXARMC  BMXWAIST  HIQ210  \n",
       "0     43.6     35.9     101.1     2.0  \n",
       "1     40.0     33.2     107.9     NaN  \n",
       "2     37.0     31.0     116.5     2.0  \n",
       "3     37.7     38.3     110.1     2.0  \n",
       "4     36.0     27.2      80.4     2.0  \n",
       "\n",
       "[5 rows x 28 columns]"
      ]
     },
     "execution_count": 2,
     "metadata": {},
     "output_type": "execute_result"
    }
   ],
   "source": [
    "import pandas as pd\n",
    "import numpy as np\n",
    "import scipy.stats as stats\n",
    "import matplotlib.pyplot as plt\n",
    "import statsmodels.api as sm\n",
    "from statsmodels.stats.proportion import proportions_ztest\n",
    "from statsmodels.stats.weightstats import ttest_ind\n",
    "\n",
    "df = pd.read_csv(\"nhanes_2015_2016.csv\")\n",
    "df.head()"
   ]
  },
  {
   "cell_type": "markdown",
   "metadata": {},
   "source": [
    "## Question 1\n",
    "\n",
    "Conduct a hypothesis test (at the 0.05 level) for the null hypothesis that the proportion of women who smoke is equal to the proportion of men who smoke."
   ]
  },
  {
   "cell_type": "code",
   "execution_count": 3,
   "metadata": {},
   "outputs": [
    {
     "name": "stdout",
     "output_type": "stream",
     "text": [
      "Z-statistic: -16.0140, P-value: 0.0000\n"
     ]
    }
   ],
   "source": [
    "# Extract smoking status for males and females\n",
    "smoke_female = df[(df['RIAGENDR'] == 2) & (df['SMQ020'] == 1)]  # Women who smoke\n",
    "smoke_male = df[(df['RIAGENDR'] == 1) & (df['SMQ020'] == 1)]    # Men who smoke\n",
    "\n",
    "# Count smokers and total people per gender\n",
    "smokers = np.array([len(smoke_female), len(smoke_male)])\n",
    "total = np.array([\n",
    "    len(df[df['RIAGENDR'] == 2]),  # Total women\n",
    "    len(df[df['RIAGENDR'] == 1])   # Total men\n",
    "])\n",
    "\n",
    "# Perform two-proportion z-test\n",
    "z_stat, p_val = proportions_ztest(smokers, total)\n",
    "\n",
    "# Print results\n",
    "print(f\"Z-statistic: {z_stat:.4f}, P-value: {p_val:.4f}\")"
   ]
  },
  {
   "cell_type": "markdown",
   "metadata": {},
   "source": [
    "__Q1a.__ Write 1-2 sentences explaining the substance of your findings to someone who does not know anything about statistical hypothesis tests."
   ]
  },
  {
   "cell_type": "markdown",
   "metadata": {},
   "source": [
    "Since the p-value is compared to the 0.05 significance level, if p < 0.05, we reject the null hypothesis and conclude that the smoking rates between men and women differ. If p > 0.05, we fail to reject the null, meaning there is no strong evidence that the proportions differ."
   ]
  },
  {
   "cell_type": "markdown",
   "metadata": {},
   "source": [
    "__Q1b.__ Construct three 95% confidence intervals: one for the proportion of women who smoke, one for the proportion of men who smoke, and one for the difference in the rates of smoking between women and men."
   ]
  },
  {
   "cell_type": "code",
   "execution_count": 4,
   "metadata": {},
   "outputs": [
    {
     "name": "stdout",
     "output_type": "stream",
     "text": [
      "95% CI for female smoking rate: (0.2879023206749516, 0.3209686470669839)\n",
      "95% CI for male smoking rate: (0.4934902211293819, 0.5307939397984904)\n",
      "95% CI for difference: (-0.2326312298280253, -0.18278196335791153)\n"
     ]
    }
   ],
   "source": [
    "# Compute proportions\n",
    "p_female = smokers[0] / total[0]\n",
    "p_male = smokers[1] / total[1]\n",
    "\n",
    "# Compute standard errors\n",
    "se_female = np.sqrt(p_female * (1 - p_female) / total[0])\n",
    "se_male = np.sqrt(p_male * (1 - p_male) / total[1])\n",
    "se_diff = np.sqrt(se_female**2 + se_male**2)\n",
    "\n",
    "# Compute confidence intervals\n",
    "ci_female = (p_female - 1.96 * se_female, p_female + 1.96 * se_female)\n",
    "ci_male = (p_male - 1.96 * se_male, p_male + 1.96 * se_male)\n",
    "ci_diff = ((p_female - p_male) - 1.96 * se_diff, (p_female - p_male) + 1.96 * se_diff)\n",
    "\n",
    "print(f\"95% CI for female smoking rate: {ci_female}\")\n",
    "print(f\"95% CI for male smoking rate: {ci_male}\")\n",
    "print(f\"95% CI for difference: {ci_diff}\")"
   ]
  },
  {
   "cell_type": "markdown",
   "metadata": {},
   "source": [
    "__Q1c.__ Comment on any ways in which the confidence intervals that you found in part b reinforce, contradict, or add support to the hypothesis test conducted in part a."
   ]
  },
  {
   "cell_type": "markdown",
   "metadata": {},
   "source": [
    "If the confidence interval for the difference in proportions includes zero, it suggests no significant difference. If the entire interval is above or below zero, it strengthens the rejection of the null hypothesis."
   ]
  },
  {
   "cell_type": "markdown",
   "metadata": {},
   "source": [
    "## Question 2\n",
    "\n",
    "Partition the population into two groups based on whether a person has graduated college or not, using the educational attainment variable [DMDEDUC2](https://wwwn.cdc.gov/Nchs/Nhanes/2015-2016/DEMO_I.htm#DMDEDUC2).  Then conduct a test of the null hypothesis that the average heights (in centimeters) of the two groups are equal.  Next, convert the heights from centimeters to inches, and conduct a test of the null hypothesis that the average heights (in inches) of the two groups are equal."
   ]
  },
  {
   "cell_type": "code",
   "execution_count": 9,
   "metadata": {},
   "outputs": [
    {
     "name": "stdout",
     "output_type": "stream",
     "text": [
      "T-statistic: 7.5692, P-value: 0.0000\n",
      "T-statistic: 7.5692, P-value: 0.0000\n"
     ]
    }
   ],
   "source": [
    "# Partition data based on education\n",
    "college_grad = df[df['DMDEDUC2'] == 5]['BMXHT'].dropna()  # College graduates\n",
    "no_college = df[df['DMDEDUC2'] < 5]['BMXHT'].dropna()    # Non-graduates\n",
    "\n",
    "# Perform t-test for height in cm\n",
    "t_stat, p_val = stats.ttest_ind(college_grad, no_college, nan_policy='omit')\n",
    "\n",
    "print(f\"T-statistic: {t_stat:.4f}, P-value: {p_val:.4f}\")\n",
    "\n",
    "# Partition data based on education\n",
    "college_grad = df[df['DMDEDUC2'] == 5]['BMXHT'].dropna()  # College graduates\n",
    "no_college = df[df['DMDEDUC2'] < 5]['BMXHT'].dropna()    # Non-graduates\n",
    "\n",
    "# Perform t-test for height in cm\n",
    "t_stat, p_val = stats.ttest_ind(college_grad, no_college, nan_policy='omit')\n",
    "\n",
    "print(f\"T-statistic: {t_stat:.4f}, P-value: {p_val:.4f}\")"
   ]
  },
  {
   "cell_type": "markdown",
   "metadata": {},
   "source": [
    "__Q2a.__ Based on the analysis performed here, are you confident that people who graduated from college have a different average height compared to people who did not graduate from college?"
   ]
  },
  {
   "cell_type": "markdown",
   "metadata": {},
   "source": [
    "If the p-value < 0.05, we reject the null hypothesis and conclude that the average height differs between college graduates and non-graduates. If the p-value is larger, we do not have sufficient evidence to claim a difference."
   ]
  },
  {
   "cell_type": "markdown",
   "metadata": {},
   "source": [
    "__Q2b:__ How do the results obtained using the heights expressed in inches compare to the results obtained using the heights expressed in centimeters?"
   ]
  },
  {
   "cell_type": "markdown",
   "metadata": {},
   "source": [
    "Since inches and centimeters are directly proportional, the test results should be numerically identical. The interpretation remains unchanged."
   ]
  },
  {
   "cell_type": "markdown",
   "metadata": {},
   "source": [
    "## Question 3\n",
    "\n",
    "Conduct a hypothesis test of the null hypothesis that the average BMI for men between 30 and 40 is equal to the average BMI for men between 50 and 60.  Then carry out this test again after log transforming the BMI values."
   ]
  },
  {
   "cell_type": "code",
   "execution_count": 10,
   "metadata": {},
   "outputs": [
    {
     "name": "stdout",
     "output_type": "stream",
     "text": [
      "BMI t-test: T-statistic=0.8984, P-value=0.3692\n",
      "Log BMI t-test: T-statistic=0.7058, P-value=0.4805\n"
     ]
    }
   ],
   "source": [
    "# Filter BMI data for men in the age groups\n",
    "bmi_30_40 = df[(df['RIAGENDR'] == 1) & (df['RIDAGEYR'].between(30, 40))]['BMXBMI'].dropna()\n",
    "bmi_50_60 = df[(df['RIAGENDR'] == 1) & (df['RIDAGEYR'].between(50, 60))]['BMXBMI'].dropna()\n",
    "\n",
    "# T-test\n",
    "t_stat, p_val = stats.ttest_ind(bmi_30_40, bmi_50_60, nan_policy='omit')\n",
    "\n",
    "print(f\"BMI t-test: T-statistic={t_stat:.4f}, P-value={p_val:.4f}\")\n",
    "\n",
    "# Log-transform BMI\n",
    "bmi_30_40_log = np.log(bmi_30_40)\n",
    "bmi_50_60_log = np.log(bmi_50_60)\n",
    "\n",
    "# Conduct t-test on log-transformed BMI\n",
    "t_stat_log, p_val_log = stats.ttest_ind(bmi_30_40_log, bmi_50_60_log, nan_policy='omit')\n",
    "\n",
    "print(f\"Log BMI t-test: T-statistic={t_stat_log:.4f}, P-value={p_val_log:.4f}\")"
   ]
  },
  {
   "cell_type": "markdown",
   "metadata": {},
   "source": [
    "__Q3a.__ How would you characterize the evidence that mean BMI differs between these age bands, and how would you characterize the evidence that mean log BMI differs between these age bands?"
   ]
  },
  {
   "cell_type": "markdown",
   "metadata": {},
   "source": [
    "If the p-value is low (<0.05), we reject the null hypothesis and conclude that BMI differs significantly across age groups. If the p-value is high, we do not have sufficient evidence to claim a difference.\n",
    "Log transformation can help normalize the data and reduce skewness, potentially affecting test results."
   ]
  },
  {
   "cell_type": "markdown",
   "metadata": {},
   "source": [
    "## Question 4\n",
    "\n",
    "Suppose we wish to compare the mean BMI between college graduates and people who have not graduated from college, focusing on women between the ages of 30 and 40.  First, consider the variance of BMI within each of these subpopulations using graphical techniques, and through the estimated subpopulation variances.  Then, calculate pooled and unpooled estimates of the standard error for the difference between the mean BMI in the two populations being compared.  Finally, test the null hypothesis that the two population means are equal, using each of the two different standard errors."
   ]
  },
  {
   "cell_type": "code",
   "execution_count": 11,
   "metadata": {},
   "outputs": [
    {
     "data": {
      "image/png": "[encoded data removed]",
      "text/plain": [
       "<Figure size 640x480 with 1 Axes>"
      ]
     },
     "metadata": {},
     "output_type": "display_data"
    },
    {
     "data": {
      "image/png": "[encoded data removed]",
      "text/plain": [
       "<Figure size 640x480 with 1 Axes>"
      ]
     },
     "metadata": {},
     "output_type": "display_data"
    }
   ],
   "source": [
    "# Filter BMI data for women 30-40 by education\n",
    "bmi_women_college = df[(df['RIAGENDR'] == 2) & (df['RIDAGEYR'].between(30, 40)) & (df['DMDEDUC2'] == 5)]['BMXBMI'].dropna()\n",
    "bmi_women_no_college = df[(df['RIAGENDR'] == 2) & (df['RIDAGEYR'].between(30, 40)) & (df['DMDEDUC2'] < 5)]['BMXBMI'].dropna()\n",
    "\n",
    "# Histogram comparison\n",
    "plt.hist(bmi_women_college, alpha=0.5, label='College Grad', bins=15)\n",
    "plt.hist(bmi_women_no_college, alpha=0.5, label='No College', bins=15)\n",
    "plt.legend()\n",
    "plt.xlabel('BMI')\n",
    "plt.ylabel('Frequency')\n",
    "plt.title('Distribution of BMI among Women (30-40)')\n",
    "plt.show()\n",
    "\n",
    "# Filter BMI data for women 30-40 by education\n",
    "bmi_women_college = df[(df['RIAGENDR'] == 2) & (df['RIDAGEYR'].between(30, 40)) & (df['DMDEDUC2'] == 5)]['BMXBMI'].dropna()\n",
    "bmi_women_no_college = df[(df['RIAGENDR'] == 2) & (df['RIDAGEYR'].between(30, 40)) & (df['DMDEDUC2'] < 5)]['BMXBMI'].dropna()\n",
    "\n",
    "# Histogram comparison\n",
    "plt.hist(bmi_women_college, alpha=0.5, label='College Grad', bins=15)\n",
    "plt.hist(bmi_women_no_college, alpha=0.5, label='No College', bins=15)\n",
    "plt.legend()\n",
    "plt.xlabel('BMI')\n",
    "plt.ylabel('Frequency')\n",
    "plt.title('Distribution of BMI among Women (30-40)')\n",
    "plt.show()"
   ]
  },
  {
   "cell_type": "markdown",
   "metadata": {},
   "source": [
    "__Q4a.__ Comment on the strength of evidence against the null hypothesis that these two populations have equal mean BMI."
   ]
  },
  {
   "cell_type": "markdown",
   "metadata": {},
   "source": [
    "If p < 0.05, there is strong evidence against the null hypothesis, meaning BMI significantly differs between the two groups. If p > 0.05, we lack sufficient evidence."
   ]
  },
  {
   "cell_type": "markdown",
   "metadata": {},
   "source": [
    "__Q4b.__ Comment on the degree to which the two populations have different variances, and on the extent to which the results using different approaches to estimating the standard error of the mean difference give divergent results."
   ]
  },
  {
   "cell_type": "markdown",
   "metadata": {},
   "source": [
    "If the variances of the two groups are significantly different, the assumption of equal variances may not hold, which can impact the reliability of the standard error calculation."
   ]
  },
  {
   "cell_type": "markdown",
   "metadata": {},
   "source": [
    "## Question 5\n",
    "\n",
    "Conduct a test of the null hypothesis that the first and second diastolic blood pressure measurements within a subject have the same mean values."
   ]
  },
  {
   "cell_type": "code",
   "execution_count": 12,
   "metadata": {},
   "outputs": [
    {
     "name": "stdout",
     "output_type": "stream",
     "text": [
      "Paired T-test: T-statistic=4.1404, P-value=0.0000\n"
     ]
    }
   ],
   "source": [
    "# Drop missing values for paired comparison\n",
    "bp_data = df[['BPXDI1', 'BPXDI2']].dropna()\n",
    "\n",
    "# Paired t-test\n",
    "t_stat, p_val = stats.ttest_rel(bp_data['BPXDI1'], bp_data['BPXDI2'])\n",
    "\n",
    "print(f\"Paired T-test: T-statistic={t_stat:.4f}, P-value={p_val:.4f}\")"
   ]
  },
  {
   "cell_type": "markdown",
   "metadata": {},
   "source": [
    "__Q5a.__ Briefly describe your findings for an audience that is not familiar with statistical hypothesis testing."
   ]
  },
  {
   "cell_type": "markdown",
   "metadata": {},
   "source": [
    "If p < 0.05, there is significant evidence that the two measurements differ. If p > 0.05, we do not have enough evidence to claim a difference."
   ]
  },
  {
   "cell_type": "markdown",
   "metadata": {},
   "source": [
    "__Q5b.__ Pretend that the first and second diastolic blood pressure measurements were taken on different people.  Modify the analysis above as appropriate for this setting."
   ]
  },
  {
   "cell_type": "code",
   "execution_count": 13,
   "metadata": {},
   "outputs": [
    {
     "name": "stdout",
     "output_type": "stream",
     "text": [
      "Independent T-test: T-statistic=1.4058, P-value=0.1598\n"
     ]
    }
   ],
   "source": [
    "# Perform independent t-test instead of paired t-test\n",
    "t_stat_ind, p_val_ind = stats.ttest_ind(bp_data['BPXDI1'], bp_data['BPXDI2'], nan_policy='omit')\n",
    "\n",
    "print(f\"Independent T-test: T-statistic={t_stat_ind:.4f}, P-value={p_val_ind:.4f}\")"
   ]
  },
  {
   "cell_type": "markdown",
   "metadata": {},
   "source": [
    "__Q5c.__ Briefly describe how the approaches used and the results obtained in the preceding two parts of the question differ."
   ]
  },
  {
   "cell_type": "markdown",
   "metadata": {},
   "source": [
    "The paired t-test accounts for within-subject variability, leading to a more precise comparison.\n",
    "\t•\tThe independent t-test treats measurements as coming from different people, which ignores within-subject dependencies and may lead to different results."
   ]
  },
  {
   "cell_type": "code",
   "execution_count": null,
   "metadata": {},
   "outputs": [],
   "source": []
  }
 ],
 "metadata": {
  "kernelspec": {
   "display_name": "Python 3 (ipykernel)",
   "language": "python",
   "name": "python3"
  },
  "language_info": {
   "codemirror_mode": {
    "name": "ipython",
    "version": 3
   },
   "file_extension": ".py",
   "mimetype": "text/x-python",
   "name": "python",
   "nbconvert_exporter": "python",
   "pygments_lexer": "ipython3",
   "version": "3.11.4"
  }
 },
 "nbformat": 4,
 "nbformat_minor": 2
}
